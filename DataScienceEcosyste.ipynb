{
 "cells": [
  {
   "cell_type": "markdown",
   "id": "0b8a3c4d-9667-42b3-b27b-084006070d5a",
   "metadata": {},
   "source": [
    "# Data Science Tools and Ecosystem"
   ]
  },
  {
   "cell_type": "markdown",
   "id": "16b7b163-09e3-43b5-9904-2a7bc28d6e62",
   "metadata": {},
   "source": [
    "## In this notebook, Data Science Tools and Ecosystem are summarized."
   ]
  },
  {
   "cell_type": "markdown",
   "id": "015fb4d3-833c-475f-a6a7-a192b28f4eda",
   "metadata": {},
   "source": [
    "#### **Objectives:**\n",
    "\n",
    "* List popular languages for Data Science\n",
    "* List commonly used libraries\n",
    "* Give examples of evaluating expressions in Python"
   ]
  },
  {
   "cell_type": "markdown",
   "id": "c0c7256f-51ed-480e-b593-9de39e60e516",
   "metadata": {},
   "source": [
    "### Some of the popular languages that Data Scientists use are:\n",
    "\n",
    "1. Python\n",
    "2. R\n",
    "3. C#"
   ]
  },
  {
   "cell_type": "markdown",
   "id": "18e4a1fa-7d2c-403e-b05b-a69a4ce973d2",
   "metadata": {},
   "source": [
    "### Some of the commonly used libraries used by Data Scientists include:\n",
    "\n",
    "* Pandas\n",
    "* NumPy\n",
    "* Scikit-learn"
   ]
  },
  {
   "cell_type": "markdown",
   "id": "1444f53b-f3a6-4dba-8d82-9b027d257aa2",
   "metadata": {},
   "source": [
    "### Table of Data Science tools\n",
    "\n",
    "| Data Science Tools |\n",
    "|--------------------|\n",
    "| Jupyter Notebook   |\n",
    "| RStudio            |\n",
    "| VS Code            |"
   ]
  },
  {
   "cell_type": "markdown",
   "id": "473d5573-1774-426a-a370-43bf9f1abd00",
   "metadata": {},
   "source": [
    "### Below are a few examples of evaluating arithmetic expressions in Python"
   ]
  },
  {
   "cell_type": "code",
   "execution_count": 1,
   "id": "758b9325-4740-4fc2-90db-0b93ab34f39c",
   "metadata": {},
   "outputs": [
    {
     "data": {
      "text/plain": [
       "17"
      ]
     },
     "execution_count": 1,
     "metadata": {},
     "output_type": "execute_result"
    }
   ],
   "source": [
    "(3*4)+5  # This a simple arithmetic expression to mutiply then add integers  <3 "
   ]
  },
  {
   "cell_type": "code",
   "execution_count": 2,
   "id": "ffffe1c3-d2f4-462e-a3a3-35b992ed9a03",
   "metadata": {},
   "outputs": [
    {
     "name": "stdout",
     "output_type": "stream",
     "text": [
      "3.3333333333333335\n"
     ]
    }
   ],
   "source": [
    "a = 200  # minutes\n",
    "b = a/60    # this will convert 200 minutes to hours by diving by 60\n",
    "print(b)   "
   ]
  },
  {
   "cell_type": "markdown",
   "id": "2661171d-29b5-4143-9f0e-77a6cdf1b073",
   "metadata": {},
   "source": [
    "## Author\n",
    "Sebas <3 "
   ]
  },
  {
   "cell_type": "code",
   "execution_count": null,
   "id": "26876076-c179-4404-b67f-fb99386e1a82",
   "metadata": {},
   "outputs": [],
   "source": []
  }
 ],
 "metadata": {
  "kernelspec": {
   "display_name": "Python 3 (ipykernel)",
   "language": "python",
   "name": "python3"
  },
  "language_info": {
   "codemirror_mode": {
    "name": "ipython",
    "version": 3
   },
   "file_extension": ".py",
   "mimetype": "text/x-python",
   "name": "python",
   "nbconvert_exporter": "python",
   "pygments_lexer": "ipython3",
   "version": "3.12.8"
  }
 },
 "nbformat": 4,
 "nbformat_minor": 5
}
